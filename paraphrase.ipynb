{
 "cells": [
  {
   "cell_type": "code",
   "execution_count": 1,
   "id": "522ae437",
   "metadata": {
    "scrolled": true
   },
   "outputs": [
    {
     "name": "stderr",
     "output_type": "stream",
     "text": [
      "C:\\Users\\LENOVO\\AppData\\Local\\Programs\\Python\\Python310\\lib\\site-packages\\transformers\\generation_tf_utils.py:24: FutureWarning: Importing `TFGenerationMixin` from `src/transformers/generation_tf_utils.py` is deprecated and will be removed in Transformers v5. Import as `from transformers import TFGenerationMixin` instead.\n",
      "  warnings.warn(\n"
     ]
    }
   ],
   "source": [
    "from transformers import *\n"
   ]
  },
  {
   "cell_type": "code",
   "execution_count": 8,
   "id": "c682345d",
   "metadata": {
    "scrolled": true
   },
   "outputs": [
    {
     "name": "stdout",
     "output_type": "stream",
     "text": [
      "Collecting git+https://github.com/PrithivirajDamodaran/Parrot_Paraphraser.git\n",
      "  Cloning https://github.com/PrithivirajDamodaran/Parrot_Paraphraser.git to c:\\users\\lenovo\\appdata\\local\\temp\\pip-req-build-z56gd1kc\n",
      "  Resolved https://github.com/PrithivirajDamodaran/Parrot_Paraphraser.git to commit 720a87a1ee557d8ed8d9a021adbdd1dd5616c5f9\n",
      "  Preparing metadata (setup.py): started\n",
      "  Preparing metadata (setup.py): finished with status 'done'\n",
      "Requirement already satisfied: transformers in c:\\users\\lenovo\\appdata\\local\\programs\\python\\python310\\lib\\site-packages (from parrot==1.0) (4.28.1)\n",
      "Requirement already satisfied: sentencepiece in c:\\users\\lenovo\\appdata\\local\\programs\\python\\python310\\lib\\site-packages (from parrot==1.0) (0.1.99)\n",
      "Collecting python-Levenshtein\n",
      "  Downloading python_Levenshtein-0.21.1-py3-none-any.whl (9.4 kB)\n",
      "Collecting sentence-transformers\n",
      "  Downloading sentence-transformers-2.2.2.tar.gz (85 kB)\n",
      "     -------------------------------------- 86.0/86.0 kB 540.8 kB/s eta 0:00:00\n",
      "  Preparing metadata (setup.py): started\n",
      "  Preparing metadata (setup.py): finished with status 'done'\n",
      "Collecting fuzzywuzzy\n",
      "  Downloading fuzzywuzzy-0.18.0-py2.py3-none-any.whl (18 kB)\n",
      "Collecting Levenshtein==0.21.1\n",
      "  Downloading Levenshtein-0.21.1-cp310-cp310-win_amd64.whl (100 kB)\n",
      "     ------------------------------------- 101.0/101.0 kB 80.6 kB/s eta 0:00:00\n",
      "Collecting rapidfuzz<4.0.0,>=2.3.0\n",
      "  Downloading rapidfuzz-3.1.1-cp310-cp310-win_amd64.whl (1.8 MB)\n",
      "     ---------------------------------------- 1.8/1.8 MB 75.8 kB/s eta 0:00:00\n",
      "Requirement already satisfied: tqdm in c:\\users\\lenovo\\appdata\\local\\programs\\python\\python310\\lib\\site-packages (from sentence-transformers->parrot==1.0) (4.64.0)\n",
      "Requirement already satisfied: torch>=1.6.0 in c:\\users\\lenovo\\appdata\\local\\programs\\python\\python310\\lib\\site-packages (from sentence-transformers->parrot==1.0) (2.0.1)\n",
      "Collecting torchvision\n",
      "  Downloading torchvision-0.15.2-cp310-cp310-win_amd64.whl (1.2 MB)\n",
      "     ---------------------------------------- 1.2/1.2 MB 141.3 kB/s eta 0:00:00\n",
      "Requirement already satisfied: numpy in c:\\users\\lenovo\\appdata\\local\\programs\\python\\python310\\lib\\site-packages (from sentence-transformers->parrot==1.0) (1.23.5)\n",
      "Requirement already satisfied: scikit-learn in c:\\users\\lenovo\\appdata\\local\\programs\\python\\python310\\lib\\site-packages (from sentence-transformers->parrot==1.0) (1.0.2)\n",
      "Requirement already satisfied: scipy in c:\\users\\lenovo\\appdata\\local\\programs\\python\\python310\\lib\\site-packages (from sentence-transformers->parrot==1.0) (1.8.0)\n",
      "Requirement already satisfied: nltk in c:\\users\\lenovo\\appdata\\local\\programs\\python\\python310\\lib\\site-packages (from sentence-transformers->parrot==1.0) (3.8)\n",
      "Requirement already satisfied: huggingface-hub>=0.4.0 in c:\\users\\lenovo\\appdata\\local\\programs\\python\\python310\\lib\\site-packages (from sentence-transformers->parrot==1.0) (0.14.1)\n",
      "Requirement already satisfied: regex!=2019.12.17 in c:\\users\\lenovo\\appdata\\local\\programs\\python\\python310\\lib\\site-packages (from transformers->parrot==1.0) (2022.10.31)\n",
      "Requirement already satisfied: requests in c:\\users\\lenovo\\appdata\\local\\programs\\python\\python310\\lib\\site-packages (from transformers->parrot==1.0) (2.28.1)\n",
      "Requirement already satisfied: pyyaml>=5.1 in c:\\users\\lenovo\\appdata\\local\\programs\\python\\python310\\lib\\site-packages (from transformers->parrot==1.0) (6.0)\n",
      "Requirement already satisfied: tokenizers!=0.11.3,<0.14,>=0.11.1 in c:\\users\\lenovo\\appdata\\local\\programs\\python\\python310\\lib\\site-packages (from transformers->parrot==1.0) (0.13.3)\n",
      "Requirement already satisfied: packaging>=20.0 in c:\\users\\lenovo\\appdata\\local\\programs\\python\\python310\\lib\\site-packages (from transformers->parrot==1.0) (20.9)\n",
      "Requirement already satisfied: filelock in c:\\users\\lenovo\\appdata\\local\\programs\\python\\python310\\lib\\site-packages (from transformers->parrot==1.0) (3.11.0)\n",
      "Requirement already satisfied: typing-extensions>=3.7.4.3 in c:\\users\\lenovo\\appdata\\local\\programs\\python\\python310\\lib\\site-packages (from huggingface-hub>=0.4.0->sentence-transformers->parrot==1.0) (4.5.0)\n",
      "Requirement already satisfied: fsspec in c:\\users\\lenovo\\appdata\\local\\programs\\python\\python310\\lib\\site-packages (from huggingface-hub>=0.4.0->sentence-transformers->parrot==1.0) (2023.3.0)\n",
      "Requirement already satisfied: pyparsing>=2.0.2 in c:\\users\\lenovo\\appdata\\local\\programs\\python\\python310\\lib\\site-packages (from packaging>=20.0->transformers->parrot==1.0) (3.0.6)\n",
      "Requirement already satisfied: sympy in c:\\users\\lenovo\\appdata\\local\\programs\\python\\python310\\lib\\site-packages (from torch>=1.6.0->sentence-transformers->parrot==1.0) (1.9)\n",
      "Requirement already satisfied: jinja2 in c:\\users\\lenovo\\appdata\\local\\programs\\python\\python310\\lib\\site-packages (from torch>=1.6.0->sentence-transformers->parrot==1.0) (3.1.1)\n",
      "Requirement already satisfied: networkx in c:\\users\\lenovo\\appdata\\local\\programs\\python\\python310\\lib\\site-packages (from torch>=1.6.0->sentence-transformers->parrot==1.0) (2.6.3)\n",
      "Requirement already satisfied: colorama in c:\\users\\lenovo\\appdata\\local\\programs\\python\\python310\\lib\\site-packages (from tqdm->sentence-transformers->parrot==1.0) (0.4.4)\n",
      "Requirement already satisfied: joblib in c:\\users\\lenovo\\appdata\\local\\programs\\python\\python310\\lib\\site-packages (from nltk->sentence-transformers->parrot==1.0) (1.1.0)\n",
      "Requirement already satisfied: click in c:\\users\\lenovo\\appdata\\local\\programs\\python\\python310\\lib\\site-packages (from nltk->sentence-transformers->parrot==1.0) (8.1.3)\n",
      "Requirement already satisfied: idna<4,>=2.5 in c:\\users\\lenovo\\appdata\\local\\programs\\python\\python310\\lib\\site-packages (from requests->transformers->parrot==1.0) (3.3)\n",
      "Requirement already satisfied: charset-normalizer<3,>=2 in c:\\users\\lenovo\\appdata\\local\\programs\\python\\python310\\lib\\site-packages (from requests->transformers->parrot==1.0) (2.1.0)\n",
      "Requirement already satisfied: certifi>=2017.4.17 in c:\\users\\lenovo\\appdata\\local\\programs\\python\\python310\\lib\\site-packages (from requests->transformers->parrot==1.0) (2022.6.15)\n",
      "Requirement already satisfied: urllib3<1.27,>=1.21.1 in c:\\users\\lenovo\\appdata\\local\\programs\\python\\python310\\lib\\site-packages (from requests->transformers->parrot==1.0) (1.26.15)\n",
      "Requirement already satisfied: threadpoolctl>=2.0.0 in c:\\users\\lenovo\\appdata\\local\\programs\\python\\python310\\lib\\site-packages (from scikit-learn->sentence-transformers->parrot==1.0) (3.1.0)\n",
      "Requirement already satisfied: pillow!=8.3.*,>=5.3.0 in c:\\users\\lenovo\\appdata\\local\\programs\\python\\python310\\lib\\site-packages (from torchvision->sentence-transformers->parrot==1.0) (9.0.0)\n",
      "Requirement already satisfied: MarkupSafe>=2.0 in c:\\users\\lenovo\\appdata\\local\\programs\\python\\python310\\lib\\site-packages (from jinja2->torch>=1.6.0->sentence-transformers->parrot==1.0) (2.1.1)\n",
      "Requirement already satisfied: mpmath>=0.19 in c:\\users\\lenovo\\appdata\\local\\programs\\python\\python310\\lib\\site-packages (from sympy->torch>=1.6.0->sentence-transformers->parrot==1.0) (1.2.1)\n",
      "Building wheels for collected packages: parrot, sentence-transformers\n",
      "  Building wheel for parrot (setup.py): started\n",
      "  Building wheel for parrot (setup.py): finished with status 'done'\n",
      "  Created wheel for parrot: filename=parrot-1.0-py3-none-any.whl size=8643 sha256=827c777bdae5f4f6459ec60e46ed140cff15a635f71292ce9b641b9211bcb121\n",
      "  Stored in directory: C:\\Users\\LENOVO\\AppData\\Local\\Temp\\pip-ephem-wheel-cache-yttn2aqh\\wheels\\e8\\ee\\2a\\4d6a4b2a5c37f5f750e90fa79d2ad84f444fba9b050ecbbe6d\n",
      "  Building wheel for sentence-transformers (setup.py): started\n",
      "  Building wheel for sentence-transformers (setup.py): finished with status 'done'\n",
      "  Created wheel for sentence-transformers: filename=sentence_transformers-2.2.2-py3-none-any.whl size=125938 sha256=a67077b14ca0d94484abfd132c543fdf3dde592177693a23456b1363ac2beb0e\n",
      "  Stored in directory: c:\\users\\lenovo\\appdata\\local\\pip\\cache\\wheels\\62\\f2\\10\\1e606fd5f02395388f74e7462910fe851042f97238cbbd902f\n",
      "Successfully built parrot sentence-transformers\n",
      "Installing collected packages: fuzzywuzzy, rapidfuzz, Levenshtein, torchvision, python-Levenshtein, sentence-transformers, parrot\n",
      "Successfully installed Levenshtein-0.21.1 fuzzywuzzy-0.18.0 parrot-1.0 python-Levenshtein-0.21.1 rapidfuzz-3.1.1 sentence-transformers-2.2.2 torchvision-0.15.2\n"
     ]
    },
    {
     "name": "stderr",
     "output_type": "stream",
     "text": [
      "  Running command git clone --filter=blob:none --quiet https://github.com/PrithivirajDamodaran/Parrot_Paraphraser.git 'C:\\Users\\LENOVO\\AppData\\Local\\Temp\\pip-req-build-z56gd1kc'\n",
      "\n",
      "[notice] A new release of pip is available: 23.0.1 -> 23.1.2\n",
      "[notice] To update, run: python.exe -m pip install --upgrade pip\n"
     ]
    }
   ],
   "source": [
    "!pip install git+https://github.com/PrithivirajDamodaran/Parrot_Paraphraser.git\n"
   ]
  },
  {
   "cell_type": "code",
   "execution_count": null,
   "id": "58a8c8b6",
   "metadata": {},
   "outputs": [],
   "source": []
  }
 ],
 "metadata": {
  "kernelspec": {
   "display_name": "Python 3 (ipykernel)",
   "language": "python",
   "name": "python3"
  },
  "language_info": {
   "codemirror_mode": {
    "name": "ipython",
    "version": 3
   },
   "file_extension": ".py",
   "mimetype": "text/x-python",
   "name": "python",
   "nbconvert_exporter": "python",
   "pygments_lexer": "ipython3",
   "version": "3.10.1"
  }
 },
 "nbformat": 4,
 "nbformat_minor": 5
}
